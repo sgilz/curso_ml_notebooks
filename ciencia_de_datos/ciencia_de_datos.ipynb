{
  "nbformat": 4,
  "nbformat_minor": 0,
  "metadata": {
    "colab": {
      "name": "ciencia de datos.ipynb",
      "provenance": [],
      "collapsed_sections": []
    },
    "kernelspec": {
      "name": "python3",
      "display_name": "Python 3"
    }
  },
  "cells": [
    {
      "cell_type": "code",
      "metadata": {
        "id": "0EovBp3m5WjF",
        "colab_type": "code",
        "colab": {
          "resources": {
            "http://localhost:8080/nbextensions/google.colab/files.js": {
              "data": "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",
              "ok": true,
              "headers": [
                [
                  "content-type",
                  "application/javascript"
                ]
              ],
              "status": 200,
              "status_text": ""
            }
          },
          "base_uri": "https://localhost:8080/",
          "height": 73
        },
        "outputId": "5e51d74f-73f5-4be2-ed6f-ce7b140cf9b4"
      },
      "source": [
        "from google.colab import files\n",
        "files.upload()"
      ],
      "execution_count": null,
      "outputs": [
        {
          "output_type": "display_data",
          "data": {
            "text/html": [
              "\n",
              "     <input type=\"file\" id=\"files-ab01fcd6-030d-4366-a297-37596d8bdf33\" name=\"files[]\" multiple disabled\n",
              "        style=\"border:none\" />\n",
              "     <output id=\"result-ab01fcd6-030d-4366-a297-37596d8bdf33\">\n",
              "      Upload widget is only available when the cell has been executed in the\n",
              "      current browser session. Please rerun this cell to enable.\n",
              "      </output>\n",
              "      <script src=\"/nbextensions/google.colab/files.js\"></script> "
            ],
            "text/plain": [
              "<IPython.core.display.HTML object>"
            ]
          },
          "metadata": {
            "tags": []
          }
        },
        {
          "output_type": "stream",
          "text": [
            "Saving train_sample.csv to train_sample.csv\n"
          ],
          "name": "stdout"
        }
      ]
    },
    {
      "cell_type": "code",
      "metadata": {
        "id": "5Cwa5C1PTqrO",
        "colab_type": "code",
        "colab": {
          "base_uri": "https://localhost:8080/",
          "height": 195
        },
        "outputId": "b1166ea7-3c73-45bd-a28d-52e71fddc4f8"
      },
      "source": [
        "import pandas as pd\n",
        "import matplotlib.pyplot as plt\n",
        "\n",
        "train_dfC = pd.read_csv(\"train_sample.csv\")\n",
        "train_dfC.head()"
      ],
      "execution_count": null,
      "outputs": [
        {
          "output_type": "execute_result",
          "data": {
            "text/html": [
              "<div>\n",
              "<style scoped>\n",
              "    .dataframe tbody tr th:only-of-type {\n",
              "        vertical-align: middle;\n",
              "    }\n",
              "\n",
              "    .dataframe tbody tr th {\n",
              "        vertical-align: top;\n",
              "    }\n",
              "\n",
              "    .dataframe thead th {\n",
              "        text-align: right;\n",
              "    }\n",
              "</style>\n",
              "<table border=\"1\" class=\"dataframe\">\n",
              "  <thead>\n",
              "    <tr style=\"text-align: right;\">\n",
              "      <th></th>\n",
              "      <th>Semana</th>\n",
              "      <th>Agencia_ID</th>\n",
              "      <th>Canal_ID</th>\n",
              "      <th>Ruta_SAK</th>\n",
              "      <th>Cliente_ID</th>\n",
              "      <th>Producto_ID</th>\n",
              "      <th>Venta_uni_hoy</th>\n",
              "      <th>Venta_hoy</th>\n",
              "      <th>Dev_uni_proxima</th>\n",
              "      <th>Dev_proxima</th>\n",
              "      <th>Demanda_uni_equil</th>\n",
              "    </tr>\n",
              "  </thead>\n",
              "  <tbody>\n",
              "    <tr>\n",
              "      <th>0</th>\n",
              "      <td>3</td>\n",
              "      <td>1110</td>\n",
              "      <td>7</td>\n",
              "      <td>3301</td>\n",
              "      <td>15766</td>\n",
              "      <td>1212</td>\n",
              "      <td>3</td>\n",
              "      <td>25.14</td>\n",
              "      <td>0</td>\n",
              "      <td>0.0</td>\n",
              "      <td>3</td>\n",
              "    </tr>\n",
              "    <tr>\n",
              "      <th>1</th>\n",
              "      <td>3</td>\n",
              "      <td>1110</td>\n",
              "      <td>7</td>\n",
              "      <td>3301</td>\n",
              "      <td>15766</td>\n",
              "      <td>1216</td>\n",
              "      <td>4</td>\n",
              "      <td>33.52</td>\n",
              "      <td>0</td>\n",
              "      <td>0.0</td>\n",
              "      <td>4</td>\n",
              "    </tr>\n",
              "    <tr>\n",
              "      <th>2</th>\n",
              "      <td>3</td>\n",
              "      <td>1110</td>\n",
              "      <td>7</td>\n",
              "      <td>3301</td>\n",
              "      <td>15766</td>\n",
              "      <td>1238</td>\n",
              "      <td>4</td>\n",
              "      <td>39.32</td>\n",
              "      <td>0</td>\n",
              "      <td>0.0</td>\n",
              "      <td>4</td>\n",
              "    </tr>\n",
              "    <tr>\n",
              "      <th>3</th>\n",
              "      <td>3</td>\n",
              "      <td>1110</td>\n",
              "      <td>7</td>\n",
              "      <td>3301</td>\n",
              "      <td>15766</td>\n",
              "      <td>1240</td>\n",
              "      <td>4</td>\n",
              "      <td>33.52</td>\n",
              "      <td>0</td>\n",
              "      <td>0.0</td>\n",
              "      <td>4</td>\n",
              "    </tr>\n",
              "    <tr>\n",
              "      <th>4</th>\n",
              "      <td>3</td>\n",
              "      <td>1110</td>\n",
              "      <td>7</td>\n",
              "      <td>3301</td>\n",
              "      <td>15766</td>\n",
              "      <td>1242</td>\n",
              "      <td>3</td>\n",
              "      <td>22.92</td>\n",
              "      <td>0</td>\n",
              "      <td>0.0</td>\n",
              "      <td>3</td>\n",
              "    </tr>\n",
              "  </tbody>\n",
              "</table>\n",
              "</div>"
            ],
            "text/plain": [
              "   Semana  Agencia_ID  ...  Dev_proxima  Demanda_uni_equil\n",
              "0       3        1110  ...          0.0                  3\n",
              "1       3        1110  ...          0.0                  4\n",
              "2       3        1110  ...          0.0                  4\n",
              "3       3        1110  ...          0.0                  4\n",
              "4       3        1110  ...          0.0                  3\n",
              "\n",
              "[5 rows x 11 columns]"
            ]
          },
          "metadata": {
            "tags": []
          },
          "execution_count": 2
        }
      ]
    },
    {
      "cell_type": "code",
      "metadata": {
        "id": "UHjY6dOE82P8",
        "colab_type": "code",
        "colab": {
          "base_uri": "https://localhost:8080/",
          "height": 336
        },
        "outputId": "46886eb5-6eba-4990-9477-7b2d99e5bb9c"
      },
      "source": [
        "train_dfC.info()\n",
        "print(\"Valores nulos: \", train_dfC.isnull().values.any())"
      ],
      "execution_count": null,
      "outputs": [
        {
          "output_type": "stream",
          "text": [
            "<class 'pandas.core.frame.DataFrame'>\n",
            "RangeIndex: 7000000 entries, 0 to 6999999\n",
            "Data columns (total 11 columns):\n",
            " #   Column             Dtype  \n",
            "---  ------             -----  \n",
            " 0   Semana             int64  \n",
            " 1   Agencia_ID         int64  \n",
            " 2   Canal_ID           int64  \n",
            " 3   Ruta_SAK           int64  \n",
            " 4   Cliente_ID         int64  \n",
            " 5   Producto_ID        int64  \n",
            " 6   Venta_uni_hoy      int64  \n",
            " 7   Venta_hoy          float64\n",
            " 8   Dev_uni_proxima    int64  \n",
            " 9   Dev_proxima        float64\n",
            " 10  Demanda_uni_equil  int64  \n",
            "dtypes: float64(2), int64(9)\n",
            "memory usage: 587.5 MB\n",
            "Valores nulos:  False\n"
          ],
          "name": "stdout"
        }
      ]
    },
    {
      "cell_type": "code",
      "metadata": {
        "id": "2DtR_BK_GDof",
        "colab_type": "code",
        "colab": {}
      },
      "source": [
        "train_df = train_dfC.copy()\n",
        "del train_df[\"Agencia_ID\"]\n",
        "del train_df[\"Canal_ID\"]\n",
        "del train_df[\"Producto_ID\"]\n",
        "del train_df[\"Cliente_ID\"]\n",
        "del train_df[\"Ruta_SAK\"]\n",
        "del train_df[\"Semana\"]"
      ],
      "execution_count": null,
      "outputs": []
    },
    {
      "cell_type": "code",
      "metadata": {
        "id": "S5PZAzET9SQj",
        "colab_type": "code",
        "colab": {
          "base_uri": "https://localhost:8080/",
          "height": 284
        },
        "outputId": "e0f9a949-314d-4a6c-9e7e-89f736bd7d04"
      },
      "source": [
        "train_df.describe()"
      ],
      "execution_count": null,
      "outputs": [
        {
          "output_type": "execute_result",
          "data": {
            "text/html": [
              "<div>\n",
              "<style scoped>\n",
              "    .dataframe tbody tr th:only-of-type {\n",
              "        vertical-align: middle;\n",
              "    }\n",
              "\n",
              "    .dataframe tbody tr th {\n",
              "        vertical-align: top;\n",
              "    }\n",
              "\n",
              "    .dataframe thead th {\n",
              "        text-align: right;\n",
              "    }\n",
              "</style>\n",
              "<table border=\"1\" class=\"dataframe\">\n",
              "  <thead>\n",
              "    <tr style=\"text-align: right;\">\n",
              "      <th></th>\n",
              "      <th>Venta_uni_hoy</th>\n",
              "      <th>Venta_hoy</th>\n",
              "      <th>Dev_uni_proxima</th>\n",
              "      <th>Dev_proxima</th>\n",
              "      <th>Demanda_uni_equil</th>\n",
              "    </tr>\n",
              "  </thead>\n",
              "  <tbody>\n",
              "    <tr>\n",
              "      <th>count</th>\n",
              "      <td>7.000000e+06</td>\n",
              "      <td>7.000000e+06</td>\n",
              "      <td>7.000000e+06</td>\n",
              "      <td>7.000000e+06</td>\n",
              "      <td>7.000000e+06</td>\n",
              "    </tr>\n",
              "    <tr>\n",
              "      <th>mean</th>\n",
              "      <td>6.830656e+00</td>\n",
              "      <td>7.052256e+01</td>\n",
              "      <td>1.017120e-01</td>\n",
              "      <td>1.176823e+00</td>\n",
              "      <td>6.756646e+00</td>\n",
              "    </tr>\n",
              "    <tr>\n",
              "      <th>std</th>\n",
              "      <td>1.810903e+01</td>\n",
              "      <td>3.010611e+02</td>\n",
              "      <td>3.093342e+00</td>\n",
              "      <td>2.836533e+01</td>\n",
              "      <td>1.797118e+01</td>\n",
              "    </tr>\n",
              "    <tr>\n",
              "      <th>min</th>\n",
              "      <td>0.000000e+00</td>\n",
              "      <td>0.000000e+00</td>\n",
              "      <td>0.000000e+00</td>\n",
              "      <td>0.000000e+00</td>\n",
              "      <td>0.000000e+00</td>\n",
              "    </tr>\n",
              "    <tr>\n",
              "      <th>25%</th>\n",
              "      <td>2.000000e+00</td>\n",
              "      <td>1.886000e+01</td>\n",
              "      <td>0.000000e+00</td>\n",
              "      <td>0.000000e+00</td>\n",
              "      <td>2.000000e+00</td>\n",
              "    </tr>\n",
              "    <tr>\n",
              "      <th>50%</th>\n",
              "      <td>4.000000e+00</td>\n",
              "      <td>3.352000e+01</td>\n",
              "      <td>0.000000e+00</td>\n",
              "      <td>0.000000e+00</td>\n",
              "      <td>3.000000e+00</td>\n",
              "    </tr>\n",
              "    <tr>\n",
              "      <th>75%</th>\n",
              "      <td>7.000000e+00</td>\n",
              "      <td>6.250000e+01</td>\n",
              "      <td>0.000000e+00</td>\n",
              "      <td>0.000000e+00</td>\n",
              "      <td>7.000000e+00</td>\n",
              "    </tr>\n",
              "    <tr>\n",
              "      <th>max</th>\n",
              "      <td>3.556000e+03</td>\n",
              "      <td>4.024800e+04</td>\n",
              "      <td>3.360000e+03</td>\n",
              "      <td>4.950000e+04</td>\n",
              "      <td>3.556000e+03</td>\n",
              "    </tr>\n",
              "  </tbody>\n",
              "</table>\n",
              "</div>"
            ],
            "text/plain": [
              "       Venta_uni_hoy     Venta_hoy  ...   Dev_proxima  Demanda_uni_equil\n",
              "count   7.000000e+06  7.000000e+06  ...  7.000000e+06       7.000000e+06\n",
              "mean    6.830656e+00  7.052256e+01  ...  1.176823e+00       6.756646e+00\n",
              "std     1.810903e+01  3.010611e+02  ...  2.836533e+01       1.797118e+01\n",
              "min     0.000000e+00  0.000000e+00  ...  0.000000e+00       0.000000e+00\n",
              "25%     2.000000e+00  1.886000e+01  ...  0.000000e+00       2.000000e+00\n",
              "50%     4.000000e+00  3.352000e+01  ...  0.000000e+00       3.000000e+00\n",
              "75%     7.000000e+00  6.250000e+01  ...  0.000000e+00       7.000000e+00\n",
              "max     3.556000e+03  4.024800e+04  ...  4.950000e+04       3.556000e+03\n",
              "\n",
              "[8 rows x 5 columns]"
            ]
          },
          "metadata": {
            "tags": []
          },
          "execution_count": 5
        }
      ]
    },
    {
      "cell_type": "code",
      "metadata": {
        "id": "Lef952Y5ZIIr",
        "colab_type": "code",
        "colab": {
          "base_uri": "https://localhost:8080/",
          "height": 195
        },
        "outputId": "659ea049-fbe7-4eb3-fed0-f83affca93e7"
      },
      "source": [
        "train_df.corr(method=\"pearson\")"
      ],
      "execution_count": null,
      "outputs": [
        {
          "output_type": "execute_result",
          "data": {
            "text/html": [
              "<div>\n",
              "<style scoped>\n",
              "    .dataframe tbody tr th:only-of-type {\n",
              "        vertical-align: middle;\n",
              "    }\n",
              "\n",
              "    .dataframe tbody tr th {\n",
              "        vertical-align: top;\n",
              "    }\n",
              "\n",
              "    .dataframe thead th {\n",
              "        text-align: right;\n",
              "    }\n",
              "</style>\n",
              "<table border=\"1\" class=\"dataframe\">\n",
              "  <thead>\n",
              "    <tr style=\"text-align: right;\">\n",
              "      <th></th>\n",
              "      <th>Venta_uni_hoy</th>\n",
              "      <th>Venta_hoy</th>\n",
              "      <th>Dev_uni_proxima</th>\n",
              "      <th>Dev_proxima</th>\n",
              "      <th>Demanda_uni_equil</th>\n",
              "    </tr>\n",
              "  </thead>\n",
              "  <tbody>\n",
              "    <tr>\n",
              "      <th>Venta_uni_hoy</th>\n",
              "      <td>1.000000</td>\n",
              "      <td>0.824258</td>\n",
              "      <td>0.053792</td>\n",
              "      <td>0.098463</td>\n",
              "      <td>0.998238</td>\n",
              "    </tr>\n",
              "    <tr>\n",
              "      <th>Venta_hoy</th>\n",
              "      <td>0.824258</td>\n",
              "      <td>1.000000</td>\n",
              "      <td>0.055238</td>\n",
              "      <td>0.114565</td>\n",
              "      <td>0.821008</td>\n",
              "    </tr>\n",
              "    <tr>\n",
              "      <th>Dev_uni_proxima</th>\n",
              "      <td>0.053792</td>\n",
              "      <td>0.055238</td>\n",
              "      <td>1.000000</td>\n",
              "      <td>0.476197</td>\n",
              "      <td>0.030880</td>\n",
              "    </tr>\n",
              "    <tr>\n",
              "      <th>Dev_proxima</th>\n",
              "      <td>0.098463</td>\n",
              "      <td>0.114565</td>\n",
              "      <td>0.476197</td>\n",
              "      <td>1.000000</td>\n",
              "      <td>0.062918</td>\n",
              "    </tr>\n",
              "    <tr>\n",
              "      <th>Demanda_uni_equil</th>\n",
              "      <td>0.998238</td>\n",
              "      <td>0.821008</td>\n",
              "      <td>0.030880</td>\n",
              "      <td>0.062918</td>\n",
              "      <td>1.000000</td>\n",
              "    </tr>\n",
              "  </tbody>\n",
              "</table>\n",
              "</div>"
            ],
            "text/plain": [
              "                   Venta_uni_hoy  Venta_hoy  ...  Dev_proxima  Demanda_uni_equil\n",
              "Venta_uni_hoy           1.000000   0.824258  ...     0.098463           0.998238\n",
              "Venta_hoy               0.824258   1.000000  ...     0.114565           0.821008\n",
              "Dev_uni_proxima         0.053792   0.055238  ...     0.476197           0.030880\n",
              "Dev_proxima             0.098463   0.114565  ...     1.000000           0.062918\n",
              "Demanda_uni_equil       0.998238   0.821008  ...     0.062918           1.000000\n",
              "\n",
              "[5 rows x 5 columns]"
            ]
          },
          "metadata": {
            "tags": []
          },
          "execution_count": 6
        }
      ]
    },
    {
      "cell_type": "code",
      "metadata": {
        "id": "GjNV8ppLJrS4",
        "colab_type": "code",
        "colab": {
          "base_uri": "https://localhost:8080/",
          "height": 279
        },
        "outputId": "6b22970c-0ecd-498b-8ae4-d6ea075f305f"
      },
      "source": [
        "plt.plot(train_df[\"Venta_uni_hoy\"], train_df[\"Demanda_uni_equil\"], \"ro\")\n",
        "plt.ylabel(\"Demanda\")\n",
        "plt.xlabel(\"Unidades Vendidas\")\n",
        "plt.show()"
      ],
      "execution_count": null,
      "outputs": [
        {
          "output_type": "display_data",
          "data": {
            "image/png": "[encoded data removed]",
            "text/plain": [
              "<Figure size 432x288 with 1 Axes>"
            ]
          },
          "metadata": {
            "tags": [],
            "needs_background": "light"
          }
        }
      ]
    },
    {
      "cell_type": "code",
      "metadata": {
        "id": "o9GhMnN2KvhA",
        "colab_type": "code",
        "colab": {
          "base_uri": "https://localhost:8080/",
          "height": 279
        },
        "outputId": "0b2e111a-2c46-4c80-80b8-1135a0a8780d"
      },
      "source": [
        "plt.plot(train_df[\"Dev_uni_proxima\"], train_df[\"Demanda_uni_equil\"], \"bo\")\n",
        "plt.ylabel(\"Demanda\")\n",
        "plt.xlabel(\"Unidades Devueltas\")\n",
        "plt.show()"
      ],
      "execution_count": null,
      "outputs": [
        {
          "output_type": "display_data",
          "data": {
            "image/png": "[encoded data removed]",
            "text/plain": [
              "<Figure size 432x288 with 1 Axes>"
            ]
          },
          "metadata": {
            "tags": [],
            "needs_background": "light"
          }
        }
      ]
    },
    {
      "cell_type": "code",
      "metadata": {
        "id": "g4m2AnHLN0JI",
        "colab_type": "code",
        "colab": {}
      },
      "source": [
        "ventas = train_df[\"Venta_uni_hoy\"]\n",
        "devueltas = train_df[\"Dev_uni_proxima\"]\n",
        "demanda = train_df[\"Demanda_uni_equil\"]\n",
        "\n",
        "ven_menos_dev = []\n",
        "for i in range(len(ventas)):\n",
        "  if (ventas[i] - devueltas[i] >= 0):\n",
        "    ven_menos_dev.append(ventas[i] - devueltas[i])\n",
        "  else:\n",
        "    ven_menos_dev.append(0)\n",
        "\n",
        "demanda_df = pd.DataFrame({'Unidades_vend': ventas, 'Unidades_dev': devueltas, 'Ven_menos_dev': ven_menos_dev, 'Demanda': demanda})"
      ],
      "execution_count": null,
      "outputs": []
    },
    {
      "cell_type": "code",
      "metadata": {
        "id": "vbUU_FQnXsd8",
        "colab_type": "code",
        "colab": {
          "base_uri": "https://localhost:8080/",
          "height": 173
        },
        "outputId": "3759429d-7eb5-43ea-af97-fac65ca0c365"
      },
      "source": [
        "demanda_df.corr(method=\"pearson\")"
      ],
      "execution_count": null,
      "outputs": [
        {
          "output_type": "execute_result",
          "data": {
            "text/html": [
              "<div>\n",
              "<style scoped>\n",
              "    .dataframe tbody tr th:only-of-type {\n",
              "        vertical-align: middle;\n",
              "    }\n",
              "\n",
              "    .dataframe tbody tr th {\n",
              "        vertical-align: top;\n",
              "    }\n",
              "\n",
              "    .dataframe thead th {\n",
              "        text-align: right;\n",
              "    }\n",
              "</style>\n",
              "<table border=\"1\" class=\"dataframe\">\n",
              "  <thead>\n",
              "    <tr style=\"text-align: right;\">\n",
              "      <th></th>\n",
              "      <th>Unidades_vend</th>\n",
              "      <th>Unidades_dev</th>\n",
              "      <th>Ven_menos_dev</th>\n",
              "      <th>Demanda</th>\n",
              "    </tr>\n",
              "  </thead>\n",
              "  <tbody>\n",
              "    <tr>\n",
              "      <th>Unidades_vend</th>\n",
              "      <td>1.000000</td>\n",
              "      <td>0.049880</td>\n",
              "      <td>0.998485</td>\n",
              "      <td>0.998485</td>\n",
              "    </tr>\n",
              "    <tr>\n",
              "      <th>Unidades_dev</th>\n",
              "      <td>0.049880</td>\n",
              "      <td>1.000000</td>\n",
              "      <td>0.030246</td>\n",
              "      <td>0.030246</td>\n",
              "    </tr>\n",
              "    <tr>\n",
              "      <th>Ven_menos_dev</th>\n",
              "      <td>0.998485</td>\n",
              "      <td>0.030246</td>\n",
              "      <td>1.000000</td>\n",
              "      <td>1.000000</td>\n",
              "    </tr>\n",
              "    <tr>\n",
              "      <th>Demanda</th>\n",
              "      <td>0.998485</td>\n",
              "      <td>0.030246</td>\n",
              "      <td>1.000000</td>\n",
              "      <td>1.000000</td>\n",
              "    </tr>\n",
              "  </tbody>\n",
              "</table>\n",
              "</div>"
            ],
            "text/plain": [
              "               Unidades_vend  Unidades_dev  Ven_menos_dev   Demanda\n",
              "Unidades_vend       1.000000      0.049880       0.998485  0.998485\n",
              "Unidades_dev        0.049880      1.000000       0.030246  0.030246\n",
              "Ven_menos_dev       0.998485      0.030246       1.000000  1.000000\n",
              "Demanda             0.998485      0.030246       1.000000  1.000000"
            ]
          },
          "metadata": {
            "tags": []
          },
          "execution_count": 11
        }
      ]
    },
    {
      "cell_type": "code",
      "metadata": {
        "id": "mFojIIxmYubh",
        "colab_type": "code",
        "colab": {
          "base_uri": "https://localhost:8080/",
          "height": 34
        },
        "outputId": "5525a9bb-b501-4a9d-bca9-194db3e2459d"
      },
      "source": [
        "from sklearn.feature_selection import SelectKBest\n",
        "from sklearn.feature_selection import f_classif\n",
        "\n",
        "k = 4  # número de atributos a seleccionar\n",
        "entrenar = train_dfC.drop(['Demanda_uni_equil'], axis=1)\n",
        "columnas = list(entrenar.columns.values)\n",
        "seleccionadas = SelectKBest(f_classif, k=k).fit(entrenar, train_dfC[\"Demanda_uni_equil\"])\n",
        "atrib = seleccionadas.get_support()\n",
        "atributos = [columnas[i] for i in list(atrib.nonzero()[0])]\n",
        "atributos"
      ],
      "execution_count": null,
      "outputs": [
        {
          "output_type": "execute_result",
          "data": {
            "text/plain": [
              "['Producto_ID', 'Venta_uni_hoy', 'Venta_hoy', 'Dev_proxima']"
            ]
          },
          "metadata": {
            "tags": []
          },
          "execution_count": 28
        }
      ]
    },
    {
      "cell_type": "code",
      "metadata": {
        "id": "zTni-AS-2D0_",
        "colab_type": "code",
        "colab": {}
      },
      "source": [
        "def get_product_agg(cols):\n",
        "    df_train = pd.read_csv('train_sample.csv', usecols = ['Semana', 'Producto_ID'] + cols,\n",
        "                           dtype  = {'Semana': 'string',\n",
        "                                     'Producto_ID':'string',\n",
        "                                     'Venta_hoy':'float32',\n",
        "                                     'Venta_uni_hoy': 'int32',\n",
        "                                     'Dev_uni_proxima':'int32',\n",
        "                                     'Dev_proxima':'float32',\n",
        "                                     'Demanda_uni_equil':'int32'})\n",
        "    agg  = df_train.groupby(['Producto_ID', 'Semana'], as_index=False).agg(['sum', 'max','mean'])\n",
        "    agg.columns  =  ['_'.join(col).strip() for col in agg.columns.values]\n",
        "    del(df_train)\n",
        "    return agg\n",
        "\n",
        "agg = get_product_agg(['Venta_uni_hoy','Dev_uni_proxima', 'Demanda_uni_equil'])"
      ],
      "execution_count": null,
      "outputs": []
    },
    {
      "cell_type": "code",
      "metadata": {
        "id": "Qeigu3Gk_STp",
        "colab_type": "code",
        "colab": {
          "base_uri": "https://localhost:8080/",
          "height": 511
        },
        "outputId": "217e0366-d41f-4c48-d45c-9a8a49bb11da"
      },
      "source": [
        "agg.head(14)"
      ],
      "execution_count": null,
      "outputs": [
        {
          "output_type": "execute_result",
          "data": {
            "text/html": [
              "<div>\n",
              "<style scoped>\n",
              "    .dataframe tbody tr th:only-of-type {\n",
              "        vertical-align: middle;\n",
              "    }\n",
              "\n",
              "    .dataframe tbody tr th {\n",
              "        vertical-align: top;\n",
              "    }\n",
              "\n",
              "    .dataframe thead th {\n",
              "        text-align: right;\n",
              "    }\n",
              "</style>\n",
              "<table border=\"1\" class=\"dataframe\">\n",
              "  <thead>\n",
              "    <tr style=\"text-align: right;\">\n",
              "      <th></th>\n",
              "      <th></th>\n",
              "      <th>Venta_uni_hoy_sum</th>\n",
              "      <th>Venta_uni_hoy_max</th>\n",
              "      <th>Venta_uni_hoy_mean</th>\n",
              "      <th>Dev_uni_proxima_sum</th>\n",
              "      <th>Dev_uni_proxima_max</th>\n",
              "      <th>Dev_uni_proxima_mean</th>\n",
              "      <th>Demanda_uni_equil_sum</th>\n",
              "      <th>Demanda_uni_equil_max</th>\n",
              "      <th>Demanda_uni_equil_mean</th>\n",
              "    </tr>\n",
              "    <tr>\n",
              "      <th>Producto_ID</th>\n",
              "      <th>Semana</th>\n",
              "      <th></th>\n",
              "      <th></th>\n",
              "      <th></th>\n",
              "      <th></th>\n",
              "      <th></th>\n",
              "      <th></th>\n",
              "      <th></th>\n",
              "      <th></th>\n",
              "      <th></th>\n",
              "    </tr>\n",
              "  </thead>\n",
              "  <tbody>\n",
              "    <tr>\n",
              "      <th rowspan=\"2\" valign=\"top\">100</th>\n",
              "      <th>7</th>\n",
              "      <td>25</td>\n",
              "      <td>25</td>\n",
              "      <td>25.000000</td>\n",
              "      <td>25</td>\n",
              "      <td>25</td>\n",
              "      <td>25.000000</td>\n",
              "      <td>0</td>\n",
              "      <td>0</td>\n",
              "      <td>0.000000</td>\n",
              "    </tr>\n",
              "    <tr>\n",
              "      <th>9</th>\n",
              "      <td>25</td>\n",
              "      <td>25</td>\n",
              "      <td>25.000000</td>\n",
              "      <td>25</td>\n",
              "      <td>25</td>\n",
              "      <td>25.000000</td>\n",
              "      <td>0</td>\n",
              "      <td>0</td>\n",
              "      <td>0.000000</td>\n",
              "    </tr>\n",
              "    <tr>\n",
              "      <th rowspan=\"7\" valign=\"top\">1039</th>\n",
              "      <th>3</th>\n",
              "      <td>458</td>\n",
              "      <td>30</td>\n",
              "      <td>4.721649</td>\n",
              "      <td>3</td>\n",
              "      <td>2</td>\n",
              "      <td>0.030928</td>\n",
              "      <td>456</td>\n",
              "      <td>30</td>\n",
              "      <td>4.701031</td>\n",
              "    </tr>\n",
              "    <tr>\n",
              "      <th>4</th>\n",
              "      <td>543</td>\n",
              "      <td>33</td>\n",
              "      <td>5.715789</td>\n",
              "      <td>15</td>\n",
              "      <td>15</td>\n",
              "      <td>0.157895</td>\n",
              "      <td>543</td>\n",
              "      <td>33</td>\n",
              "      <td>5.715789</td>\n",
              "    </tr>\n",
              "    <tr>\n",
              "      <th>5</th>\n",
              "      <td>441</td>\n",
              "      <td>28</td>\n",
              "      <td>5.068966</td>\n",
              "      <td>14</td>\n",
              "      <td>12</td>\n",
              "      <td>0.160920</td>\n",
              "      <td>441</td>\n",
              "      <td>28</td>\n",
              "      <td>5.068966</td>\n",
              "    </tr>\n",
              "    <tr>\n",
              "      <th>6</th>\n",
              "      <td>411</td>\n",
              "      <td>24</td>\n",
              "      <td>4.617978</td>\n",
              "      <td>17</td>\n",
              "      <td>15</td>\n",
              "      <td>0.191011</td>\n",
              "      <td>409</td>\n",
              "      <td>24</td>\n",
              "      <td>4.595506</td>\n",
              "    </tr>\n",
              "    <tr>\n",
              "      <th>7</th>\n",
              "      <td>506</td>\n",
              "      <td>30</td>\n",
              "      <td>5.111111</td>\n",
              "      <td>26</td>\n",
              "      <td>15</td>\n",
              "      <td>0.262626</td>\n",
              "      <td>497</td>\n",
              "      <td>30</td>\n",
              "      <td>5.020202</td>\n",
              "    </tr>\n",
              "    <tr>\n",
              "      <th>8</th>\n",
              "      <td>501</td>\n",
              "      <td>26</td>\n",
              "      <td>4.726415</td>\n",
              "      <td>17</td>\n",
              "      <td>8</td>\n",
              "      <td>0.160377</td>\n",
              "      <td>496</td>\n",
              "      <td>26</td>\n",
              "      <td>4.679245</td>\n",
              "    </tr>\n",
              "    <tr>\n",
              "      <th>9</th>\n",
              "      <td>568</td>\n",
              "      <td>30</td>\n",
              "      <td>5.163636</td>\n",
              "      <td>2</td>\n",
              "      <td>1</td>\n",
              "      <td>0.018182</td>\n",
              "      <td>567</td>\n",
              "      <td>30</td>\n",
              "      <td>5.154545</td>\n",
              "    </tr>\n",
              "    <tr>\n",
              "      <th rowspan=\"5\" valign=\"top\">1064</th>\n",
              "      <th>3</th>\n",
              "      <td>46736</td>\n",
              "      <td>68</td>\n",
              "      <td>2.501525</td>\n",
              "      <td>840</td>\n",
              "      <td>19</td>\n",
              "      <td>0.044961</td>\n",
              "      <td>46029</td>\n",
              "      <td>68</td>\n",
              "      <td>2.463684</td>\n",
              "    </tr>\n",
              "    <tr>\n",
              "      <th>4</th>\n",
              "      <td>45277</td>\n",
              "      <td>48</td>\n",
              "      <td>2.568179</td>\n",
              "      <td>1127</td>\n",
              "      <td>18</td>\n",
              "      <td>0.063925</td>\n",
              "      <td>44378</td>\n",
              "      <td>48</td>\n",
              "      <td>2.517187</td>\n",
              "    </tr>\n",
              "    <tr>\n",
              "      <th>5</th>\n",
              "      <td>37217</td>\n",
              "      <td>54</td>\n",
              "      <td>2.316795</td>\n",
              "      <td>1144</td>\n",
              "      <td>16</td>\n",
              "      <td>0.071215</td>\n",
              "      <td>36345</td>\n",
              "      <td>54</td>\n",
              "      <td>2.262512</td>\n",
              "    </tr>\n",
              "    <tr>\n",
              "      <th>6</th>\n",
              "      <td>39100</td>\n",
              "      <td>48</td>\n",
              "      <td>2.351597</td>\n",
              "      <td>1665</td>\n",
              "      <td>13</td>\n",
              "      <td>0.100138</td>\n",
              "      <td>37837</td>\n",
              "      <td>48</td>\n",
              "      <td>2.275636</td>\n",
              "    </tr>\n",
              "    <tr>\n",
              "      <th>7</th>\n",
              "      <td>35217</td>\n",
              "      <td>35</td>\n",
              "      <td>2.257789</td>\n",
              "      <td>1585</td>\n",
              "      <td>14</td>\n",
              "      <td>0.101616</td>\n",
              "      <td>34088</td>\n",
              "      <td>35</td>\n",
              "      <td>2.185408</td>\n",
              "    </tr>\n",
              "  </tbody>\n",
              "</table>\n",
              "</div>"
            ],
            "text/plain": [
              "                    Venta_uni_hoy_sum  ...  Demanda_uni_equil_mean\n",
              "Producto_ID Semana                     ...                        \n",
              "100         7                      25  ...                0.000000\n",
              "            9                      25  ...                0.000000\n",
              "1039        3                     458  ...                4.701031\n",
              "            4                     543  ...                5.715789\n",
              "            5                     441  ...                5.068966\n",
              "            6                     411  ...                4.595506\n",
              "            7                     506  ...                5.020202\n",
              "            8                     501  ...                4.679245\n",
              "            9                     568  ...                5.154545\n",
              "1064        3                   46736  ...                2.463684\n",
              "            4                   45277  ...                2.517187\n",
              "            5                   37217  ...                2.262512\n",
              "            6                   39100  ...                2.275636\n",
              "            7                   35217  ...                2.185408\n",
              "\n",
              "[14 rows x 9 columns]"
            ]
          },
          "metadata": {
            "tags": []
          },
          "execution_count": 30
        }
      ]
    }
  ]
}